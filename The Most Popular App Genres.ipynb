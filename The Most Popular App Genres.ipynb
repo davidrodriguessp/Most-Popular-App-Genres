{
 "cells": [
  {
   "cell_type": "markdown",
   "metadata": {},
   "source": [
    "![Image](https://parentinfo.org/sites/default/files/styles/main_article_image/public/Social_Media_image_New_IG_Logo.png?itok=jDLmx9B5)\n",
    "# The Most Popular App Genres\n",
    "\n",
    "**Android** and **iOS** mobile apps are developed and offered to a variaty of users. Apps provided for free have as its main source of revenue in-app adds. The objective of this analysis is to *verify the type of apps with highest rates of downloads and usage*.\n",
    "\n",
    "We used two datasets available online for this analysis:\n",
    "- A [data set](https://www.kaggle.com/lava18/google-play-store-apps) containing data about approximately 10,000 Android apps from Google Play. The data was collected in August 2018. You can download the data set directly from this [link](https://dq-content.s3.amazonaws.com/350/googleplaystore.csv).\n",
    "\n",
    "- A [data set](https://www.kaggle.com/ramamet4/app-store-apple-data-set-10k-apps) containing data about approximately 7,000 iOS apps from the App Store. The data was collected in July 2017. You can download the data set directly from this [link](https://dq-content.s3.amazonaws.com/350/AppleStore.csv).\n",
    "\n",
    "## Opening and cleaning the data"
   ]
  },
  {
   "cell_type": "code",
   "execution_count": 1,
   "metadata": {},
   "outputs": [],
   "source": [
    "# Open dataset with Android apps\n",
    "open_android = open ('googleplaystore.csv')\n",
    "from csv import reader\n",
    "read_android = reader (open_android)\n",
    "android = list (read_android)\n",
    "android_header = android[0]\n",
    "android = android[1:]\n",
    "\n",
    "# Open dataset with IOS apps\n",
    "open_ios = open ('AppleStore.csv')\n",
    "from csv import reader\n",
    "read_ios = reader (open_ios)\n",
    "ios = list (read_ios)\n",
    "ios_header = ios[0]\n",
    "ios = ios[1:]"
   ]
  },
  {
   "cell_type": "code",
   "execution_count": 2,
   "metadata": {},
   "outputs": [],
   "source": [
    "# Define a function to help us explore the datasets\n",
    "def explore_data(dataset, start, end, rows_and_columns=False):\n",
    "    dataset_slice = dataset[start:end]    \n",
    "    for row in dataset_slice:\n",
    "        print(row)\n",
    "        print('\\n') # adds a new (empty) line after each row\n",
    "\n",
    "    if rows_and_columns:\n",
    "        print('Number of rows:', len(dataset))\n",
    "        print('Number of columns:', len(dataset[0]))"
   ]
  },
  {
   "cell_type": "code",
   "execution_count": 3,
   "metadata": {},
   "outputs": [
    {
     "name": "stdout",
     "output_type": "stream",
     "text": [
      "['App', 'Category', 'Rating', 'Reviews', 'Size', 'Installs', 'Type', 'Price', 'Content Rating', 'Genres', 'Last Updated', 'Current Ver', 'Android Ver']\n",
      "\n",
      "\n",
      "['Photo Editor & Candy Camera & Grid & ScrapBook', 'ART_AND_DESIGN', '4.1', '159', '19M', '10,000+', 'Free', '0', 'Everyone', 'Art & Design', 'January 7, 2018', '1.0.0', '4.0.3 and up']\n",
      "\n",
      "\n",
      "['Coloring book moana', 'ART_AND_DESIGN', '3.9', '967', '14M', '500,000+', 'Free', '0', 'Everyone', 'Art & Design;Pretend Play', 'January 15, 2018', '2.0.0', '4.0.3 and up']\n",
      "\n",
      "\n",
      "['U Launcher Lite – FREE Live Cool Themes, Hide Apps', 'ART_AND_DESIGN', '4.7', '87510', '8.7M', '5,000,000+', 'Free', '0', 'Everyone', 'Art & Design', 'August 1, 2018', '1.2.4', '4.0.3 and up']\n",
      "\n",
      "\n",
      "Number of rows: 10841\n",
      "Number of columns: 13\n"
     ]
    }
   ],
   "source": [
    "# Explore the android dataset\n",
    "print(android_header)\n",
    "print('\\n')\n",
    "explore_data(android, 0, 3, True )"
   ]
  },
  {
   "cell_type": "code",
   "execution_count": 4,
   "metadata": {},
   "outputs": [
    {
     "name": "stdout",
     "output_type": "stream",
     "text": [
      "['id', 'track_name', 'size_bytes', 'currency', 'price', 'rating_count_tot', 'rating_count_ver', 'user_rating', 'user_rating_ver', 'ver', 'cont_rating', 'prime_genre', 'sup_devices.num', 'ipadSc_urls.num', 'lang.num', 'vpp_lic']\n",
      "\n",
      "\n",
      "['284882215', 'Facebook', '389879808', 'USD', '0.0', '2974676', '212', '3.5', '3.5', '95.0', '4+', 'Social Networking', '37', '1', '29', '1']\n",
      "\n",
      "\n",
      "['389801252', 'Instagram', '113954816', 'USD', '0.0', '2161558', '1289', '4.5', '4.0', '10.23', '12+', 'Photo & Video', '37', '0', '29', '1']\n",
      "\n",
      "\n",
      "['529479190', 'Clash of Clans', '116476928', 'USD', '0.0', '2130805', '579', '4.5', '4.5', '9.24.12', '9+', 'Games', '38', '5', '18', '1']\n",
      "\n",
      "\n",
      "Number of rows: 7197\n",
      "Number of columns: 16\n"
     ]
    }
   ],
   "source": [
    "# Explore the ios dataset\n",
    "print(ios_header)\n",
    "print('\\n')\n",
    "explore_data(ios, 0, 3, True)"
   ]
  },
  {
   "cell_type": "code",
   "execution_count": 5,
   "metadata": {
    "scrolled": true
   },
   "outputs": [
    {
     "name": "stdout",
     "output_type": "stream",
     "text": [
      "Android Dataset Column Names\n",
      "['App', 'Category', 'Rating', 'Reviews', 'Size', 'Installs', 'Type', 'Price', 'Content Rating', 'Genres', 'Last Updated', 'Current Ver', 'Android Ver']\n",
      "\n",
      "\n",
      "iOS Dataset Column Names\n",
      "['id', 'track_name', 'size_bytes', 'currency', 'price', 'rating_count_tot', 'rating_count_ver', 'user_rating', 'user_rating_ver', 'ver', 'cont_rating', 'prime_genre', 'sup_devices.num', 'ipadSc_urls.num', 'lang.num', 'vpp_lic']\n"
     ]
    }
   ],
   "source": [
    "# Print the column names of the Android and iOS datasets\n",
    "print ('Android Dataset Column Names')\n",
    "print (android_header)\n",
    "print ('\\n') # Print an empty row\n",
    "print ('iOS Dataset Column Names')\n",
    "print (ios_header)"
   ]
  },
  {
   "cell_type": "markdown",
   "metadata": {},
   "source": [
    "The Google Play dataset has 13 columns including the App name, the Category and the Rating. The iOS dataset comprises 16 columns with similar information if compared to the Android dataset.\n",
    "\n",
    "### Removing wrong data\n",
    "While exploring the datasets, we see that the Android file includes a row with missing columns."
   ]
  },
  {
   "cell_type": "code",
   "execution_count": 6,
   "metadata": {
    "scrolled": true
   },
   "outputs": [
    {
     "data": {
      "text/plain": [
       "['Life Made WI-Fi Touchscreen Photo Frame',\n",
       " '1.9',\n",
       " '19',\n",
       " '3.0M',\n",
       " '1,000+',\n",
       " 'Free',\n",
       " '0',\n",
       " 'Everyone',\n",
       " '',\n",
       " 'February 11, 2018',\n",
       " '1.0.19',\n",
       " '4.0 and up']"
      ]
     },
     "execution_count": 6,
     "metadata": {},
     "output_type": "execute_result"
    }
   ],
   "source": [
    "# Check on row 10473 that seems to have an error: category column is missing\n",
    "android[10472]"
   ]
  },
  {
   "cell_type": "code",
   "execution_count": 7,
   "metadata": {},
   "outputs": [],
   "source": [
    "# Remove row with error\n",
    "del android[10472]"
   ]
  },
  {
   "cell_type": "markdown",
   "metadata": {},
   "source": [
    "### Dropping duplicate data\n",
    "\n",
    "We also observe that the Google Play dataset (Android) includes duplicate entries. In the code below we show multiple rows for Instagram and Facebook."
   ]
  },
  {
   "cell_type": "code",
   "execution_count": 8,
   "metadata": {},
   "outputs": [
    {
     "name": "stdout",
     "output_type": "stream",
     "text": [
      "['Facebook', 'SOCIAL', '4.1', '78158306', 'Varies with device', '1,000,000,000+', 'Free', '0', 'Teen', 'Social', 'August 3, 2018', 'Varies with device', 'Varies with device']\n",
      "\n",
      "\n",
      "['Facebook', 'SOCIAL', '4.1', '78128208', 'Varies with device', '1,000,000,000+', 'Free', '0', 'Teen', 'Social', 'August 3, 2018', 'Varies with device', 'Varies with device']\n",
      "\n",
      "\n"
     ]
    }
   ],
   "source": [
    "# Print all rows with the app name Facebook\n",
    "for app in android:\n",
    "    name = app[0]\n",
    "    if name == 'Facebook':\n",
    "        print (app)\n",
    "        print ('\\n') # Print an empty row between each output row"
   ]
  },
  {
   "cell_type": "code",
   "execution_count": 9,
   "metadata": {},
   "outputs": [
    {
     "name": "stdout",
     "output_type": "stream",
     "text": [
      "['Instagram', 'SOCIAL', '4.5', '66577313', 'Varies with device', '1,000,000,000+', 'Free', '0', 'Teen', 'Social', 'July 31, 2018', 'Varies with device', 'Varies with device']\n",
      "\n",
      "\n",
      "['Instagram', 'SOCIAL', '4.5', '66577446', 'Varies with device', '1,000,000,000+', 'Free', '0', 'Teen', 'Social', 'July 31, 2018', 'Varies with device', 'Varies with device']\n",
      "\n",
      "\n",
      "['Instagram', 'SOCIAL', '4.5', '66577313', 'Varies with device', '1,000,000,000+', 'Free', '0', 'Teen', 'Social', 'July 31, 2018', 'Varies with device', 'Varies with device']\n",
      "\n",
      "\n",
      "['Instagram', 'SOCIAL', '4.5', '66509917', 'Varies with device', '1,000,000,000+', 'Free', '0', 'Teen', 'Social', 'July 31, 2018', 'Varies with device', 'Varies with device']\n",
      "\n",
      "\n"
     ]
    }
   ],
   "source": [
    "# Print all rows with the app name Instagram\n",
    "for app in android:\n",
    "    name = app[0]\n",
    "    if name == 'Instagram':\n",
    "        print (app)\n",
    "        print ('\\n') # Print an empty row between each output row"
   ]
  },
  {
   "cell_type": "code",
   "execution_count": 10,
   "metadata": {},
   "outputs": [
    {
     "name": "stdout",
     "output_type": "stream",
     "text": [
      "1181\n"
     ]
    }
   ],
   "source": [
    "# Count the number of duplicate rows\n",
    "duplicate_names = []\n",
    "unique_names = []\n",
    "\n",
    "for app in android:\n",
    "    name = app[0]\n",
    "    \n",
    "    if name in unique_names:\n",
    "        duplicate_names.append(name)\n",
    "    else:\n",
    "        unique_names.append(name)\n",
    "        \n",
    "print (len(duplicate_names))"
   ]
  },
  {
   "cell_type": "markdown",
   "metadata": {},
   "source": [
    "In the code above, we see that the Google Play dataset includes 1,181 duplicate rows. The next step in our analysis is to remove the duplicates. The criterion we used to chose one of the rows per app is the one with the highest number of reviews. The logic behind is that we expect the entries with higher number of reviews to be the most recent."
   ]
  },
  {
   "cell_type": "code",
   "execution_count": 11,
   "metadata": {},
   "outputs": [],
   "source": [
    "# Create a dictionary only with unique apps as keys and their highest reviews as values\n",
    "reviews_max = {}\n",
    "\n",
    "for app in android: # Disregard the dataset header\n",
    "    name = app[0]\n",
    "    n_reviews = float(app[3])\n",
    "    \n",
    "    if name in reviews_max and reviews_max[name] < n_reviews:\n",
    "        reviews_max[name] = n_reviews\n",
    "        \n",
    "    elif name not in reviews_max:\n",
    "        reviews_max[name] = n_reviews     "
   ]
  },
  {
   "cell_type": "code",
   "execution_count": 12,
   "metadata": {},
   "outputs": [
    {
     "data": {
      "text/plain": [
       "9659"
      ]
     },
     "execution_count": 12,
     "metadata": {},
     "output_type": "execute_result"
    }
   ],
   "source": [
    "# Display the number of unique apps and their maximum number of reviews\n",
    "len(reviews_max)"
   ]
  },
  {
   "cell_type": "markdown",
   "metadata": {},
   "source": [
    "In the code below we:\n",
    "1. Create two empty lists to store our new clean data set and keep track of the app names\n",
    "2. Loop through the Google Play dataset selecting the rows with the highest reviews that are not yet in the list\n",
    "3. Append these rows to the new clean list"
   ]
  },
  {
   "cell_type": "code",
   "execution_count": 13,
   "metadata": {},
   "outputs": [],
   "source": [
    "# Remove the duplicate rows\n",
    "android_clean = [] # Create an empty list where we will create our clean dataset\n",
    "already_added = [] # Create an empty list where we will keep track of the names of the added apps\n",
    "\n",
    "for app in android: \n",
    "    name = app[0] # Create a variable with the name of the app\n",
    "    n_reviews = float(app[3])\n",
    "    \n",
    "    if n_reviews == reviews_max[name] and name not in already_added:\n",
    "        android_clean.append(app)\n",
    "        already_added.append(name)"
   ]
  },
  {
   "cell_type": "markdown",
   "metadata": {},
   "source": [
    "After removing the duplicate data, the clean dataset has 9,549 rows."
   ]
  },
  {
   "cell_type": "code",
   "execution_count": 14,
   "metadata": {},
   "outputs": [
    {
     "name": "stdout",
     "output_type": "stream",
     "text": [
      "['Photo Editor & Candy Camera & Grid & ScrapBook', 'ART_AND_DESIGN', '4.1', '159', '19M', '10,000+', 'Free', '0', 'Everyone', 'Art & Design', 'January 7, 2018', '1.0.0', '4.0.3 and up']\n",
      "\n",
      "\n",
      "['U Launcher Lite – FREE Live Cool Themes, Hide Apps', 'ART_AND_DESIGN', '4.7', '87510', '8.7M', '5,000,000+', 'Free', '0', 'Everyone', 'Art & Design', 'August 1, 2018', '1.2.4', '4.0.3 and up']\n",
      "\n",
      "\n",
      "['Sketch - Draw & Paint', 'ART_AND_DESIGN', '4.5', '215644', '25M', '50,000,000+', 'Free', '0', 'Teen', 'Art & Design', 'June 8, 2018', 'Varies with device', '4.2 and up']\n",
      "\n",
      "\n",
      "Number of rows: 9659\n",
      "Number of columns: 13\n"
     ]
    }
   ],
   "source": [
    "# Explore the android_clean dataset, it is expected to have 9659 rows\n",
    "explore_data(android_clean, 0, 3, True)"
   ]
  },
  {
   "cell_type": "markdown",
   "metadata": {},
   "source": [
    "## Removing apps written in languages different than English"
   ]
  },
  {
   "cell_type": "markdown",
   "metadata": {},
   "source": [
    "Both datasets include apps written in other languages. We will clean the data to include only the ones written in English."
   ]
  },
  {
   "cell_type": "code",
   "execution_count": 15,
   "metadata": {},
   "outputs": [],
   "source": [
    "# Create a function that returns False if non-English characters are included in a string\n",
    "def is_english (string):\n",
    "    \n",
    "    for character in string:\n",
    "        if ord(character) > 127:\n",
    "            return False\n",
    "        \n",
    "    return True"
   ]
  },
  {
   "cell_type": "code",
   "execution_count": 16,
   "metadata": {},
   "outputs": [
    {
     "name": "stdout",
     "output_type": "stream",
     "text": [
      "True\n",
      "False\n",
      "False\n",
      "False\n",
      "8482 128540\n"
     ]
    }
   ],
   "source": [
    "# Testing the function: a non-English character should return False and an English one True\n",
    "print(is_english('Instagram'))\n",
    "print(is_english('爱奇艺PPS -《欢乐颂2》电视剧热播'))\n",
    "print(is_english('Docs To Go™ Free Office Suite'))\n",
    "print(is_english('Instachat 😜'))\n",
    "print (ord('™'), ord('😜'))"
   ]
  },
  {
   "cell_type": "markdown",
   "metadata": {},
   "source": [
    "As we see in the code above, '™' and '😜' are characters out of the range of typical English characters. That's why the code returns False to the last two apps that contain these characters. As a way to minimize this, we will edit the previous function and make it return False only if more than 3 characters are classified as non-English."
   ]
  },
  {
   "cell_type": "code",
   "execution_count": 17,
   "metadata": {},
   "outputs": [],
   "source": [
    "# Edit the function to return False only to apps that include more than 3 characters classified as non-English\n",
    "def is_english (string):\n",
    "    tot_non_engl = 0\n",
    "    for character in string:\n",
    "        if ord(character) > 127:\n",
    "            tot_non_engl += 1\n",
    "            if tot_non_engl > 3:\n",
    "                return False\n",
    "        \n",
    "    return True"
   ]
  },
  {
   "cell_type": "code",
   "execution_count": 18,
   "metadata": {},
   "outputs": [
    {
     "name": "stdout",
     "output_type": "stream",
     "text": [
      "True\n",
      "True\n",
      "False\n"
     ]
    }
   ],
   "source": [
    "# Check if the function is working properly with diffeernt statements\n",
    "print(is_english ('Docs To Go™ Free Office Suite'))\n",
    "print(is_english ('Instachat 😜'))\n",
    "print(is_english ('爱奇艺PPS -《欢乐颂2》电视剧热播'))"
   ]
  },
  {
   "cell_type": "markdown",
   "metadata": {},
   "source": [
    "In the code above se see that now the function returns False only to non-English terms."
   ]
  },
  {
   "cell_type": "code",
   "execution_count": 19,
   "metadata": {},
   "outputs": [],
   "source": [
    "# Filter out non-English apps from the android_clean dataset\n",
    "android_english = []\n",
    "for app in android_clean:\n",
    "    name = app[0]\n",
    "    if is_english (name):\n",
    "        android_english.append(app)"
   ]
  },
  {
   "cell_type": "code",
   "execution_count": 20,
   "metadata": {},
   "outputs": [
    {
     "name": "stdout",
     "output_type": "stream",
     "text": [
      "['Photo Editor & Candy Camera & Grid & ScrapBook', 'ART_AND_DESIGN', '4.1', '159', '19M', '10,000+', 'Free', '0', 'Everyone', 'Art & Design', 'January 7, 2018', '1.0.0', '4.0.3 and up']\n",
      "\n",
      "\n",
      "['U Launcher Lite – FREE Live Cool Themes, Hide Apps', 'ART_AND_DESIGN', '4.7', '87510', '8.7M', '5,000,000+', 'Free', '0', 'Everyone', 'Art & Design', 'August 1, 2018', '1.2.4', '4.0.3 and up']\n",
      "\n",
      "\n",
      "['Sketch - Draw & Paint', 'ART_AND_DESIGN', '4.5', '215644', '25M', '50,000,000+', 'Free', '0', 'Teen', 'Art & Design', 'June 8, 2018', 'Varies with device', '4.2 and up']\n",
      "\n",
      "\n",
      "Number of rows: 9614\n",
      "Number of columns: 13\n"
     ]
    }
   ],
   "source": [
    "# Explore the new android_english dataset without the non-English rows\n",
    "explore_data(android_english, 0, 3, True)"
   ]
  },
  {
   "cell_type": "code",
   "execution_count": 21,
   "metadata": {},
   "outputs": [],
   "source": [
    "# Filter out non-English apps from the ios datset\n",
    "ios_english = []\n",
    "for app in ios:\n",
    "    name = app[1]\n",
    "    if is_english(name):\n",
    "        ios_english.append(app)"
   ]
  },
  {
   "cell_type": "code",
   "execution_count": 22,
   "metadata": {},
   "outputs": [
    {
     "name": "stdout",
     "output_type": "stream",
     "text": [
      "['284882215', 'Facebook', '389879808', 'USD', '0.0', '2974676', '212', '3.5', '3.5', '95.0', '4+', 'Social Networking', '37', '1', '29', '1']\n",
      "\n",
      "\n",
      "['389801252', 'Instagram', '113954816', 'USD', '0.0', '2161558', '1289', '4.5', '4.0', '10.23', '12+', 'Photo & Video', '37', '0', '29', '1']\n",
      "\n",
      "\n",
      "['529479190', 'Clash of Clans', '116476928', 'USD', '0.0', '2130805', '579', '4.5', '4.5', '9.24.12', '9+', 'Games', '38', '5', '18', '1']\n",
      "\n",
      "\n",
      "Number of rows: 6183\n",
      "Number of columns: 16\n"
     ]
    }
   ],
   "source": [
    "# Explore the new ios_english dataset without the non-English rows\n",
    "explore_data(ios_english, 0, 3, True)"
   ]
  },
  {
   "cell_type": "markdown",
   "metadata": {},
   "source": [
    "After removing the non-English apps, the android dataset has now 9,614 rows and the iOS dataset 6,183 entries."
   ]
  },
  {
   "cell_type": "markdown",
   "metadata": {},
   "source": [
    "## Removing non-free apps\n",
    "The final step in cleaning our data is to remove the apps that are not free."
   ]
  },
  {
   "cell_type": "code",
   "execution_count": 23,
   "metadata": {},
   "outputs": [
    {
     "name": "stdout",
     "output_type": "stream",
     "text": [
      "['App', 'Category', 'Rating', 'Reviews', 'Size', 'Installs', 'Type', 'Price', 'Content Rating', 'Genres', 'Last Updated', 'Current Ver', 'Android Ver']\n",
      "\n",
      "\n",
      "['id', 'track_name', 'size_bytes', 'currency', 'price', 'rating_count_tot', 'rating_count_ver', 'user_rating', 'user_rating_ver', 'ver', 'cont_rating', 'prime_genre', 'sup_devices.num', 'ipadSc_urls.num', 'lang.num', 'vpp_lic']\n"
     ]
    }
   ],
   "source": [
    "# Check the headers of both datasets to see where the free/non-free information is\n",
    "print(android_header)\n",
    "print('\\n')\n",
    "print(ios_header)"
   ]
  },
  {
   "cell_type": "markdown",
   "metadata": {},
   "source": [
    "The free apps have the value '0' in column 8 of the Android dataset and in column 5 of the iOS dataset. In the following code we identify the free apps in both datasets and save them in a new list of lists."
   ]
  },
  {
   "cell_type": "code",
   "execution_count": 24,
   "metadata": {},
   "outputs": [],
   "source": [
    "# Create new datasets including only free apps\n",
    "android_final = []\n",
    "ios_final = []\n",
    "\n",
    "for app in android_english:\n",
    "    price = app[7]\n",
    "    if price == '0':\n",
    "        android_final.append(app)\n",
    "        \n",
    "for app in ios_english:\n",
    "    price = float(app[4])\n",
    "    if price == 0:\n",
    "        ios_final.append(app)"
   ]
  },
  {
   "cell_type": "code",
   "execution_count": 25,
   "metadata": {},
   "outputs": [
    {
     "name": "stdout",
     "output_type": "stream",
     "text": [
      "8864\n",
      "3222\n"
     ]
    }
   ],
   "source": [
    "# Exploring final clean datasets including only free apps\n",
    "print(len(android_final))\n",
    "print(len(ios_final))"
   ]
  },
  {
   "cell_type": "markdown",
   "metadata": {},
   "source": [
    "Our final clean datasets to be used in the analysis are android_final with 8,864 entries and and ios_final with 3,222."
   ]
  },
  {
   "cell_type": "markdown",
   "metadata": {},
   "source": [
    "## Data analysis\n",
    "The objective of this investigation is to identify the types of apps with the highest potential in terms of usage. Let's check each dataset columns to identify which ones could provide the information we need."
   ]
  },
  {
   "cell_type": "code",
   "execution_count": 26,
   "metadata": {},
   "outputs": [
    {
     "name": "stdout",
     "output_type": "stream",
     "text": [
      "['App', 'Category', 'Rating', 'Reviews', 'Size', 'Installs', 'Type', 'Price', 'Content Rating', 'Genres', 'Last Updated', 'Current Ver', 'Android Ver']\n",
      "\n",
      "\n",
      "['Photo Editor & Candy Camera & Grid & ScrapBook', 'ART_AND_DESIGN', '4.1', '159', '19M', '10,000+', 'Free', '0', 'Everyone', 'Art & Design', 'January 7, 2018', '1.0.0', '4.0.3 and up']\n",
      "\n",
      "\n",
      "['id', 'track_name', 'size_bytes', 'currency', 'price', 'rating_count_tot', 'rating_count_ver', 'user_rating', 'user_rating_ver', 'ver', 'cont_rating', 'prime_genre', 'sup_devices.num', 'ipadSc_urls.num', 'lang.num', 'vpp_lic']\n",
      "\n",
      "\n",
      "['504170504', 'Louvre HD', '125812736', 'USD', '1.99', '1129', '93', '5.0', '5.0', '4.4', '4+', 'Lifestyle', '40', '4', '12', '1']\n"
     ]
    }
   ],
   "source": [
    "# Checking on the first lines of both datasets\n",
    "print (android_header)\n",
    "print ('\\n')\n",
    "print (android[0])\n",
    "print ('\\n')\n",
    "print (ios_header)\n",
    "print ('\\n')\n",
    "print (ios[2500])"
   ]
  },
  {
   "cell_type": "markdown",
   "metadata": {},
   "source": [
    "The apps genre can be identified in the 'Genres' and 'Category' columns in the Google Play dataset and in the 'prime_genre' column in the iOS dataset.\n",
    "\n",
    "\n",
    "### Creating a frequency table with the different genres"
   ]
  },
  {
   "cell_type": "code",
   "execution_count": 27,
   "metadata": {},
   "outputs": [],
   "source": [
    "# Creating a freq_table function returning a frequency table for any column in a dataset\n",
    "def freq_table (dataset, index):\n",
    "    \n",
    "    table = {}\n",
    "    \n",
    "    for row in dataset:\n",
    "        item = row[index]\n",
    "        \n",
    "        if item in table:\n",
    "            table[item]+=1  \n",
    "        else:\n",
    "            table[item]=1\n",
    "\n",
    "    for topic in table:\n",
    "        table[topic] /= len (dataset)\n",
    "        table[topic] *= 100\n",
    "        \n",
    "    return table"
   ]
  },
  {
   "cell_type": "code",
   "execution_count": 28,
   "metadata": {},
   "outputs": [],
   "source": [
    "# Defining a function that takes our freq_table function and reorders the topics\n",
    "def display_table(dataset, index):\n",
    "    table = freq_table(dataset, index)\n",
    "    table_display = []\n",
    "    for key in table:\n",
    "        key_val_as_tuple = (table[key], key)\n",
    "        table_display.append(key_val_as_tuple)\n",
    "\n",
    "    table_sorted = sorted(table_display, reverse = True)\n",
    "    for entry in table_sorted:\n",
    "        print(entry[1], ':', entry[0])"
   ]
  },
  {
   "cell_type": "code",
   "execution_count": 29,
   "metadata": {},
   "outputs": [
    {
     "name": "stdout",
     "output_type": "stream",
     "text": [
      "Games : 58.16263190564867\n",
      "Entertainment : 7.883302296710118\n",
      "Photo & Video : 4.9658597144630665\n",
      "Education : 3.662321539416512\n",
      "Social Networking : 3.2898820608317814\n",
      "Shopping : 2.60707635009311\n",
      "Utilities : 2.5139664804469275\n",
      "Sports : 2.1415270018621975\n",
      "Music : 2.0484171322160147\n",
      "Health & Fitness : 2.0173805090006205\n",
      "Productivity : 1.7380509000620732\n",
      "Lifestyle : 1.5828677839851024\n",
      "News : 1.3345747982619491\n",
      "Travel : 1.2414649286157666\n",
      "Finance : 1.1173184357541899\n",
      "Weather : 0.8690254500310366\n",
      "Food & Drink : 0.8069522036002483\n",
      "Reference : 0.5586592178770949\n",
      "Business : 0.5276225946617008\n",
      "Book : 0.4345127250155183\n",
      "Navigation : 0.186219739292365\n",
      "Medical : 0.186219739292365\n",
      "Catalogs : 0.12414649286157665\n"
     ]
    }
   ],
   "source": [
    "# Display prime_genre from ios_final\n",
    "display_table (ios_final, -5) "
   ]
  },
  {
   "cell_type": "markdown",
   "metadata": {},
   "source": [
    "Analysing the iOS dataset, we see that most apps are related to entertainment and fun. They include topics like gaming, photos and videos. Gaming is the theme that stands out the most, comprising much more apps than the other genres. The runner-up is Entertainment. \n",
    "\n",
    "A search on the App Store for the category 'Games' brought the results displayed in the picture below (search made on April, 11 2020). \n",
    "\n",
    "![ios](ios_pic.png)"
   ]
  },
  {
   "cell_type": "code",
   "execution_count": 30,
   "metadata": {
    "scrolled": true
   },
   "outputs": [
    {
     "name": "stdout",
     "output_type": "stream",
     "text": [
      "FAMILY : 18.907942238267147\n",
      "GAME : 9.724729241877256\n",
      "TOOLS : 8.461191335740072\n",
      "BUSINESS : 4.591606498194946\n",
      "LIFESTYLE : 3.9034296028880866\n",
      "PRODUCTIVITY : 3.892148014440433\n",
      "FINANCE : 3.7003610108303246\n",
      "MEDICAL : 3.531137184115524\n",
      "SPORTS : 3.395758122743682\n",
      "PERSONALIZATION : 3.3167870036101084\n",
      "COMMUNICATION : 3.2378158844765346\n",
      "HEALTH_AND_FITNESS : 3.0798736462093865\n",
      "PHOTOGRAPHY : 2.944494584837545\n",
      "NEWS_AND_MAGAZINES : 2.7978339350180503\n",
      "SOCIAL : 2.6624548736462095\n",
      "TRAVEL_AND_LOCAL : 2.33528880866426\n",
      "SHOPPING : 2.2450361010830324\n",
      "BOOKS_AND_REFERENCE : 2.1435018050541514\n",
      "DATING : 1.861462093862816\n",
      "VIDEO_PLAYERS : 1.7937725631768955\n",
      "MAPS_AND_NAVIGATION : 1.3989169675090252\n",
      "FOOD_AND_DRINK : 1.2409747292418771\n",
      "EDUCATION : 1.1620036101083033\n",
      "ENTERTAINMENT : 0.9589350180505415\n",
      "LIBRARIES_AND_DEMO : 0.9363718411552346\n",
      "AUTO_AND_VEHICLES : 0.9250902527075812\n",
      "HOUSE_AND_HOME : 0.8235559566787004\n",
      "WEATHER : 0.8009927797833934\n",
      "EVENTS : 0.7107400722021661\n",
      "PARENTING : 0.6543321299638989\n",
      "ART_AND_DESIGN : 0.6430505415162455\n",
      "COMICS : 0.6204873646209386\n",
      "BEAUTY : 0.5979241877256317\n"
     ]
    }
   ],
   "source": [
    "# Display Category from android_final\n",
    "display_table (android_final, 1) "
   ]
  },
  {
   "cell_type": "code",
   "execution_count": 31,
   "metadata": {},
   "outputs": [
    {
     "name": "stdout",
     "output_type": "stream",
     "text": [
      "Tools : 8.449909747292418\n",
      "Entertainment : 6.069494584837545\n",
      "Education : 5.347472924187725\n",
      "Business : 4.591606498194946\n",
      "Productivity : 3.892148014440433\n",
      "Lifestyle : 3.892148014440433\n",
      "Finance : 3.7003610108303246\n",
      "Medical : 3.531137184115524\n",
      "Sports : 3.463447653429603\n",
      "Personalization : 3.3167870036101084\n",
      "Communication : 3.2378158844765346\n",
      "Action : 3.1024368231046933\n",
      "Health & Fitness : 3.0798736462093865\n",
      "Photography : 2.944494584837545\n",
      "News & Magazines : 2.7978339350180503\n",
      "Social : 2.6624548736462095\n",
      "Travel & Local : 2.3240072202166067\n",
      "Shopping : 2.2450361010830324\n",
      "Books & Reference : 2.1435018050541514\n",
      "Simulation : 2.0419675090252705\n",
      "Dating : 1.861462093862816\n",
      "Arcade : 1.8501805054151623\n",
      "Video Players & Editors : 1.7712093862815883\n",
      "Casual : 1.7599277978339352\n",
      "Maps & Navigation : 1.3989169675090252\n",
      "Food & Drink : 1.2409747292418771\n",
      "Puzzle : 1.128158844765343\n",
      "Racing : 0.9927797833935018\n",
      "Role Playing : 0.9363718411552346\n",
      "Libraries & Demo : 0.9363718411552346\n",
      "Auto & Vehicles : 0.9250902527075812\n",
      "Strategy : 0.9138086642599278\n",
      "House & Home : 0.8235559566787004\n",
      "Weather : 0.8009927797833934\n",
      "Events : 0.7107400722021661\n",
      "Adventure : 0.6768953068592057\n",
      "Comics : 0.6092057761732852\n",
      "Beauty : 0.5979241877256317\n",
      "Art & Design : 0.5979241877256317\n",
      "Parenting : 0.4963898916967509\n",
      "Card : 0.45126353790613716\n",
      "Casino : 0.42870036101083037\n",
      "Trivia : 0.41741877256317694\n",
      "Educational;Education : 0.39485559566787\n",
      "Board : 0.3835740072202166\n",
      "Educational : 0.3722924187725632\n",
      "Education;Education : 0.33844765342960287\n",
      "Word : 0.2594765342960289\n",
      "Casual;Pretend Play : 0.236913357400722\n",
      "Music : 0.2030685920577617\n",
      "Racing;Action & Adventure : 0.16922382671480143\n",
      "Puzzle;Brain Games : 0.16922382671480143\n",
      "Entertainment;Music & Video : 0.16922382671480143\n",
      "Casual;Brain Games : 0.13537906137184114\n",
      "Casual;Action & Adventure : 0.13537906137184114\n",
      "Arcade;Action & Adventure : 0.12409747292418773\n",
      "Action;Action & Adventure : 0.10153429602888085\n",
      "Educational;Pretend Play : 0.09025270758122744\n",
      "Simulation;Action & Adventure : 0.078971119133574\n",
      "Parenting;Education : 0.078971119133574\n",
      "Entertainment;Brain Games : 0.078971119133574\n",
      "Board;Brain Games : 0.078971119133574\n",
      "Parenting;Music & Video : 0.06768953068592057\n",
      "Educational;Brain Games : 0.06768953068592057\n",
      "Casual;Creativity : 0.06768953068592057\n",
      "Art & Design;Creativity : 0.06768953068592057\n",
      "Education;Pretend Play : 0.056407942238267145\n",
      "Role Playing;Pretend Play : 0.04512635379061372\n",
      "Education;Creativity : 0.04512635379061372\n",
      "Role Playing;Action & Adventure : 0.033844765342960284\n",
      "Puzzle;Action & Adventure : 0.033844765342960284\n",
      "Entertainment;Creativity : 0.033844765342960284\n",
      "Entertainment;Action & Adventure : 0.033844765342960284\n",
      "Educational;Creativity : 0.033844765342960284\n",
      "Educational;Action & Adventure : 0.033844765342960284\n",
      "Education;Music & Video : 0.033844765342960284\n",
      "Education;Brain Games : 0.033844765342960284\n",
      "Education;Action & Adventure : 0.033844765342960284\n",
      "Adventure;Action & Adventure : 0.033844765342960284\n",
      "Video Players & Editors;Music & Video : 0.02256317689530686\n",
      "Sports;Action & Adventure : 0.02256317689530686\n",
      "Simulation;Pretend Play : 0.02256317689530686\n",
      "Puzzle;Creativity : 0.02256317689530686\n",
      "Music;Music & Video : 0.02256317689530686\n",
      "Entertainment;Pretend Play : 0.02256317689530686\n",
      "Casual;Education : 0.02256317689530686\n",
      "Board;Action & Adventure : 0.02256317689530686\n",
      "Video Players & Editors;Creativity : 0.01128158844765343\n",
      "Trivia;Education : 0.01128158844765343\n",
      "Travel & Local;Action & Adventure : 0.01128158844765343\n",
      "Tools;Education : 0.01128158844765343\n",
      "Strategy;Education : 0.01128158844765343\n",
      "Strategy;Creativity : 0.01128158844765343\n",
      "Strategy;Action & Adventure : 0.01128158844765343\n",
      "Simulation;Education : 0.01128158844765343\n",
      "Role Playing;Brain Games : 0.01128158844765343\n",
      "Racing;Pretend Play : 0.01128158844765343\n",
      "Puzzle;Education : 0.01128158844765343\n",
      "Parenting;Brain Games : 0.01128158844765343\n",
      "Music & Audio;Music & Video : 0.01128158844765343\n",
      "Lifestyle;Pretend Play : 0.01128158844765343\n",
      "Lifestyle;Education : 0.01128158844765343\n",
      "Health & Fitness;Education : 0.01128158844765343\n",
      "Health & Fitness;Action & Adventure : 0.01128158844765343\n",
      "Entertainment;Education : 0.01128158844765343\n",
      "Communication;Creativity : 0.01128158844765343\n",
      "Comics;Creativity : 0.01128158844765343\n",
      "Casual;Music & Video : 0.01128158844765343\n",
      "Card;Action & Adventure : 0.01128158844765343\n",
      "Books & Reference;Education : 0.01128158844765343\n",
      "Art & Design;Pretend Play : 0.01128158844765343\n",
      "Art & Design;Action & Adventure : 0.01128158844765343\n",
      "Arcade;Pretend Play : 0.01128158844765343\n",
      "Adventure;Education : 0.01128158844765343\n"
     ]
    }
   ],
   "source": [
    "# Display Genres from android_final\n",
    "display_table (android_final, -4) "
   ]
  },
  {
   "cell_type": "markdown",
   "metadata": {},
   "source": [
    "When it comes to the Google Play results, apps profiles tend to be more skewed towards practical topics as Tools, Education and Business. At the same time, Entertainment and Games still appear  at the top of the list. These last two themes stand out in both platforms."
   ]
  },
  {
   "cell_type": "markdown",
   "metadata": {},
   "source": [
    "### Calculating the average number of Reviews and Installs for different genres\n",
    "The previous analysis gave us insight on the types of apps we can find in each platform. We will now look at the data from a different angle, identifying the genres with the largest number of installs and reviews. \n",
    "\n",
    "As the number of installs is only available at the Google Play dataset, we use the reviews as a proxi while analysing the App Store.\n",
    "\n",
    "### Average Number of reviews in the App Store"
   ]
  },
  {
   "cell_type": "code",
   "execution_count": 32,
   "metadata": {},
   "outputs": [
    {
     "name": "stdout",
     "output_type": "stream",
     "text": [
      "Social Networking : 71548.34905660378\n",
      "Photo & Video : 28441.54375\n",
      "Games : 22788.6696905016\n",
      "Music : 57326.530303030304\n",
      "Reference : 74942.11111111111\n",
      "Health & Fitness : 23298.015384615384\n",
      "Weather : 52279.892857142855\n",
      "Utilities : 18684.456790123455\n",
      "Travel : 28243.8\n",
      "Shopping : 26919.690476190477\n",
      "News : 21248.023255813954\n",
      "Navigation : 86090.33333333333\n",
      "Lifestyle : 16485.764705882353\n",
      "Entertainment : 14029.830708661417\n",
      "Food & Drink : 33333.92307692308\n",
      "Sports : 23008.898550724636\n",
      "Book : 39758.5\n",
      "Finance : 31467.944444444445\n",
      "Education : 7003.983050847458\n",
      "Productivity : 21028.410714285714\n",
      "Business : 7491.117647058823\n",
      "Catalogs : 4004.0\n",
      "Medical : 612.0\n"
     ]
    }
   ],
   "source": [
    "# Calculate the average number of reviews by genre in the App Store dataset\n",
    "unique_genres = []\n",
    "\n",
    "for row in ios_final:\n",
    "    genre = row[-5]\n",
    "    if genre not in unique_genres:\n",
    "        unique_genres.append(genre)\n",
    "\n",
    "for genre in unique_genres:\n",
    "    total = 0\n",
    "    len_genre = 0\n",
    "    \n",
    "    for item in ios_final:\n",
    "        genre_app = item[-5]\n",
    "        if genre_app == genre:\n",
    "            rating = float(item[5])\n",
    "            total+=rating\n",
    "            len_genre+=1   \n",
    "            \n",
    "    avg_rating = total / len_genre\n",
    "    print(genre, ':', avg_rating)"
   ]
  },
  {
   "cell_type": "markdown",
   "metadata": {},
   "source": [
    "The two genres with the largest number of reviews in the iOS dataset are Navigation and Reference. Let's have a look at the apps included in each of them."
   ]
  },
  {
   "cell_type": "code",
   "execution_count": 33,
   "metadata": {
    "scrolled": false
   },
   "outputs": [
    {
     "name": "stdout",
     "output_type": "stream",
     "text": [
      "Waze - GPS Navigation, Maps & Real-time Traffic : 345046\n",
      "Google Maps - Navigation & Transit : 154911\n",
      "Geocaching® : 12811\n",
      "CoPilot GPS – Car Navigation & Offline Maps : 3582\n",
      "ImmobilienScout24: Real Estate Search in Germany : 187\n",
      "Railway Route Search : 5\n"
     ]
    }
   ],
   "source": [
    "# Displaying Navigation apps\n",
    "for row in ios_final:\n",
    "    genre = row[-5]\n",
    "    name = row[1]\n",
    "    reviews = row[5]\n",
    "    if genre == 'Navigation':\n",
    "        print(name, ':', reviews)"
   ]
  },
  {
   "cell_type": "markdown",
   "metadata": {},
   "source": [
    "While observing the apps comprised in the Navigation genre, we see that Waze and Google Maps are responsible for most of the reviews. It is unlikely that new apps at the same category will present similar figures. At the same time, these results show that geolocation information may be highly relevant to users."
   ]
  },
  {
   "cell_type": "code",
   "execution_count": 34,
   "metadata": {},
   "outputs": [
    {
     "name": "stdout",
     "output_type": "stream",
     "text": [
      "Bible : 985920\n",
      "Dictionary.com Dictionary & Thesaurus : 200047\n",
      "Dictionary.com Dictionary & Thesaurus for iPad : 54175\n",
      "Google Translate : 26786\n",
      "Muslim Pro: Ramadan 2017 Prayer Times, Azan, Quran : 18418\n",
      "New Furniture Mods - Pocket Wiki & Game Tools for Minecraft PC Edition : 17588\n",
      "Merriam-Webster Dictionary : 16849\n",
      "Night Sky : 12122\n",
      "City Maps for Minecraft PE - The Best Maps for Minecraft Pocket Edition (MCPE) : 8535\n",
      "LUCKY BLOCK MOD ™ for Minecraft PC Edition - The Best Pocket Wiki & Mods Installer Tools : 4693\n",
      "GUNS MODS for Minecraft PC Edition - Mods Tools : 1497\n",
      "Guides for Pokémon GO - Pokemon GO News and Cheats : 826\n",
      "WWDC : 762\n",
      "Horror Maps for Minecraft PE - Download The Scariest Maps for Minecraft Pocket Edition (MCPE) Free : 718\n",
      "VPN Express : 14\n",
      "Real Bike Traffic Rider Virtual Reality Glasses : 8\n",
      "教えて!goo : 0\n",
      "Jishokun-Japanese English Dictionary & Translator : 0\n"
     ]
    }
   ],
   "source": [
    "# Displaying Reference apps\n",
    "for row in ios_final:\n",
    "    genre = row[-5]\n",
    "    name = row[1]\n",
    "    reviews = row[5]\n",
    "    if genre == 'Reference':\n",
    "        print(name, ':', reviews)"
   ]
  },
  {
   "cell_type": "markdown",
   "metadata": {},
   "source": [
    "The Reference genre includes different types of apps, encompassing the ones related to religion, dictionaries and translators. This analysis highlights the importance of religion and the need for understanding different languages. Apps linked to such topics may be relevant to a large number of users."
   ]
  },
  {
   "cell_type": "markdown",
   "metadata": {},
   "source": [
    "### Average number of installs in Google Play"
   ]
  },
  {
   "cell_type": "code",
   "execution_count": 35,
   "metadata": {},
   "outputs": [
    {
     "name": "stdout",
     "output_type": "stream",
     "text": [
      "['10,000+', '5,000,000+', '50,000,000+', '100,000+', '50,000+']\n"
     ]
    }
   ],
   "source": [
    "# Print first 3 roow of the Installs column of the android_final dataset\n",
    "installs_list = []\n",
    "for row in android_final:\n",
    "    installs = row[5]\n",
    "    installs_list.append(installs)\n",
    "    \n",
    "print(installs_list[:5])"
   ]
  },
  {
   "cell_type": "markdown",
   "metadata": {},
   "source": [
    "We see that the number of Installs is displayed in an open-ended way, not showing the precise numbers but an approximation. Besides, values include plus and comma signs, what prevents us from converting them directly into floats or integers. Therefore, we will need to remove the plus and comma signs before performing calculations with the Installs column.\n",
    "\n",
    "In the code below, we calculate the total number of Installs per genre in the Google Play dataset. The code includes a step in which we remove the plus and comma signs from the values."
   ]
  },
  {
   "cell_type": "code",
   "execution_count": 36,
   "metadata": {
    "scrolled": true
   },
   "outputs": [
    {
     "name": "stdout",
     "output_type": "stream",
     "text": [
      "List of Unique Genres:  ['ART_AND_DESIGN', 'AUTO_AND_VEHICLES', 'BEAUTY', 'BOOKS_AND_REFERENCE', 'BUSINESS', 'COMICS', 'COMMUNICATION', 'DATING', 'EDUCATION', 'ENTERTAINMENT', 'EVENTS', 'FINANCE', 'FOOD_AND_DRINK', 'HEALTH_AND_FITNESS', 'HOUSE_AND_HOME', 'LIBRARIES_AND_DEMO', 'LIFESTYLE', 'GAME', 'FAMILY', 'MEDICAL', 'SOCIAL', 'SHOPPING', 'PHOTOGRAPHY', 'SPORTS', 'TRAVEL_AND_LOCAL', 'TOOLS', 'PERSONALIZATION', 'PRODUCTIVITY', 'PARENTING', 'WEATHER', 'VIDEO_PLAYERS', 'NEWS_AND_MAGAZINES', 'MAPS_AND_NAVIGATION']\n"
     ]
    }
   ],
   "source": [
    "# Create a list with the unique genres in the Category column\n",
    "unique_genres = []\n",
    "\n",
    "for row in android_final:\n",
    "    genre = row[1]\n",
    "    if genre not in unique_genres:\n",
    "        unique_genres.append(genre)\n",
    "        \n",
    "print ('List of Unique Genres: ',unique_genres)"
   ]
  },
  {
   "cell_type": "code",
   "execution_count": 37,
   "metadata": {},
   "outputs": [
    {
     "name": "stdout",
     "output_type": "stream",
     "text": [
      "ART_AND_DESIGN :  1986335.0877192982\n",
      "AUTO_AND_VEHICLES :  647317.8170731707\n",
      "BEAUTY :  513151.88679245283\n",
      "BOOKS_AND_REFERENCE :  8767811.894736841\n",
      "BUSINESS :  1712290.1474201474\n",
      "COMICS :  817657.2727272727\n",
      "COMMUNICATION :  38456119.167247385\n",
      "DATING :  854028.8303030303\n",
      "EDUCATION :  1833495.145631068\n",
      "ENTERTAINMENT :  11640705.88235294\n",
      "EVENTS :  253542.22222222222\n",
      "FINANCE :  1387692.475609756\n",
      "FOOD_AND_DRINK :  1924897.7363636363\n",
      "HEALTH_AND_FITNESS :  4188821.9853479853\n",
      "HOUSE_AND_HOME :  1331540.5616438356\n",
      "LIBRARIES_AND_DEMO :  638503.734939759\n",
      "LIFESTYLE :  1437816.2687861272\n",
      "GAME :  15588015.603248259\n",
      "FAMILY :  3695641.8198090694\n",
      "MEDICAL :  120550.61980830671\n",
      "SOCIAL :  23253652.127118643\n",
      "SHOPPING :  7036877.311557789\n",
      "PHOTOGRAPHY :  17840110.40229885\n",
      "SPORTS :  3638640.1428571427\n",
      "TRAVEL_AND_LOCAL :  13984077.710144928\n",
      "TOOLS :  10801391.298666667\n",
      "PERSONALIZATION :  5201482.6122448975\n",
      "PRODUCTIVITY :  16787331.344927534\n",
      "PARENTING :  542603.6206896552\n",
      "WEATHER :  5074486.197183099\n",
      "VIDEO_PLAYERS :  24727872.452830188\n",
      "NEWS_AND_MAGAZINES :  9549178.467741935\n",
      "MAPS_AND_NAVIGATION :  4056941.7741935486\n"
     ]
    }
   ],
   "source": [
    "# Calculate the average number of Installs per genre\n",
    "for genre in unique_genres:\n",
    "    total = 0\n",
    "    len_genre = 0\n",
    "    \n",
    "    for row in android_final:\n",
    "        app_genre = row[1]\n",
    "        if app_genre == genre:\n",
    "            installs = row[5]\n",
    "            installs = installs.replace(',', '') # Removing comma signs from the values\n",
    "            installs = installs.replace('+', '') # Removing plus signs from the values\n",
    "            installs = float(installs)\n",
    "            total += installs\n",
    "            len_genre += 1\n",
    "            \n",
    "    avg_install = total / len_genre\n",
    "    print(genre, ': ', avg_install)"
   ]
  },
  {
   "cell_type": "markdown",
   "metadata": {},
   "source": [
    "From the information above, we see that three of the genres stand out at Google Play, with more than 20 million installs on average: Communication, Social and Video_Player. Below, we check what are the apps included in each of these groups."
   ]
  },
  {
   "cell_type": "code",
   "execution_count": 38,
   "metadata": {},
   "outputs": [
    {
     "name": "stdout",
     "output_type": "stream",
     "text": [
      "WhatsApp Messenger : 1,000,000,000+\n",
      "Messenger for SMS : 10,000,000+\n",
      "My Tele2 : 5,000,000+\n",
      "imo beta free calls and text : 100,000,000+\n",
      "Contacts : 50,000,000+\n",
      "Call Free – Free Call : 5,000,000+\n",
      "Web Browser & Explorer : 5,000,000+\n",
      "Browser 4G : 10,000,000+\n",
      "MegaFon Dashboard : 10,000,000+\n",
      "ZenUI Dialer & Contacts : 10,000,000+\n",
      "Cricket Visual Voicemail : 10,000,000+\n",
      "TracFone My Account : 1,000,000+\n",
      "Xperia Link™ : 10,000,000+\n",
      "TouchPal Keyboard - Fun Emoji & Android Keyboard : 10,000,000+\n",
      "Skype Lite - Free Video Call & Chat : 5,000,000+\n",
      "My magenta : 1,000,000+\n",
      "Android Messages : 100,000,000+\n",
      "Google Duo - High Quality Video Calls : 500,000,000+\n",
      "Seznam.cz : 1,000,000+\n",
      "Antillean Gold Telegram (original version) : 100,000+\n",
      "AT&T Visual Voicemail : 10,000,000+\n",
      "GMX Mail : 10,000,000+\n",
      "Omlet Chat : 10,000,000+\n",
      "My Vodacom SA : 5,000,000+\n",
      "Microsoft Edge : 5,000,000+\n",
      "Messenger – Text and Video Chat for Free : 1,000,000,000+\n",
      "imo free video calls and chat : 500,000,000+\n",
      "Calls & Text by Mo+ : 5,000,000+\n",
      "free video calls and chat : 50,000,000+\n",
      "Skype - free IM & video calls : 1,000,000,000+\n",
      "Who : 100,000,000+\n",
      "GO SMS Pro - Messenger, Free Themes, Emoji : 100,000,000+\n",
      "Messaging+ SMS, MMS Free : 1,000,000+\n",
      "chomp SMS : 10,000,000+\n",
      "Glide - Video Chat Messenger : 10,000,000+\n",
      "Text SMS : 10,000,000+\n",
      "Talkray - Free Calls & Texts : 10,000,000+\n",
      "LINE: Free Calls & Messages : 500,000,000+\n",
      "GroupMe : 10,000,000+\n",
      "mysms SMS Text Messaging Sync : 1,000,000+\n",
      "2ndLine - Second Phone Number : 1,000,000+\n",
      "Google Chrome: Fast & Secure : 1,000,000,000+\n",
      "Firefox Browser fast & private : 100,000,000+\n",
      "Ninesky Browser : 1,000,000+\n",
      "Dolphin Browser - Fast, Private & Adblock🐬 : 50,000,000+\n",
      "UC Browser - Fast Download Private & Secure : 500,000,000+\n",
      "Ghostery Privacy Browser : 1,000,000+\n",
      "InBrowser - Incognito Browsing : 1,000,000+\n",
      "Lightning Web Browser : 500,000+\n",
      "Web Browser : 500,000+\n",
      "Contacts+ : 10,000,000+\n",
      "ExDialer - Dialer & Contacts : 10,000,000+\n",
      "PHONE for Google Voice & GTalk : 1,000,000+\n",
      "Safest Call Blocker : 1,000,000+\n",
      "Full Screen Caller ID : 5,000,000+\n",
      "Hiya - Caller ID & Block : 10,000,000+\n",
      "Mr. Number-Block calls & spam : 10,000,000+\n",
      "Should I Answer? : 1,000,000+\n",
      "RocketDial Dialer & Contacts : 1,000,000+\n",
      "CIA - Caller ID & Call Blocker : 5,000,000+\n",
      "Calls Blacklist - Call Blocker : 10,000,000+\n",
      "Call Control - Call Blocker : 5,000,000+\n",
      "True Contact - Real Caller ID : 1,000,000+\n",
      "Video Caller Id : 1,000,000+\n",
      "Sync.ME – Caller ID & Block : 5,000,000+\n",
      "Burner - Free Phone Number : 1,000,000+\n",
      "Caller ID + : 1,000,000+\n",
      "Gmail : 1,000,000,000+\n",
      "K-9 Mail : 5,000,000+\n",
      "myMail – Email for Hotmail, Gmail and Outlook Mail : 10,000,000+\n",
      "Email TypeApp - Mail App : 1,000,000+\n",
      "All Email Providers : 1,000,000+\n",
      "Newton Mail - Email App for Gmail, Outlook, IMAP : 1,000,000+\n",
      "GO Notifier : 10,000,000+\n",
      "Mail.Ru - Email App : 50,000,000+\n",
      "Mail1Click - Secure Mail : 10,000+\n",
      "Daum Mail - Next Mail : 5,000,000+\n",
      "mail.com mail : 1,000,000+\n",
      "SolMail - All-in-One email app : 500,000+\n",
      "Hangouts : 1,000,000,000+\n",
      "Vonage Mobile® Call Video Text : 1,000,000+\n",
      "JusTalk - Free Video Calls and Fun Video Chat : 5,000,000+\n",
      "Azar : 50,000,000+\n",
      "LokLok: Draw on a Lock Screen : 500,000+\n",
      "Discord - Chat for Gamers : 10,000,000+\n",
      "Messenger Lite: Free Calls & Messages : 100,000,000+\n",
      "AntennaPict β : 1,000,000+\n",
      "Talkatone: Free Texts, Calls & Phone Number : 10,000,000+\n",
      "Kik : 100,000,000+\n",
      "K-@ Mail - Email App : 100,000+\n",
      "KakaoTalk: Free Calls & Text : 100,000,000+\n",
      "K-9 Material (unofficial) : 5,000+\n",
      "M star Dialer : 100,000+\n",
      "Free WiFi Connect : 10,000,000+\n",
      "m:go BiH : 10,000+\n",
      "N-Com Wizard : 50,000+\n",
      "Opera Mini - fast web browser : 100,000,000+\n",
      "Opera Browser: Fast and Secure : 100,000,000+\n",
      "Opera Mini browser beta : 10,000,000+\n",
      "Psiphon Pro - The Internet Freedom VPN : 10,000,000+\n",
      "ICQ — Video Calls & Chat Messenger : 10,000,000+\n",
      "Telegram : 100,000,000+\n",
      "AT&T Messages for Tablet : 1,000,000+\n",
      "T-Mobile DIGITS : 100,000+\n",
      "Truecaller: Caller ID, SMS spam blocking & Dialer : 100,000,000+\n",
      "Portable Wi-Fi hotspot : 10,000,000+\n",
      "AT&T Call Protect : 5,000,000+\n",
      "U - Webinars, Meetings & Messenger : 500,000+\n",
      "UC Browser Mini -Tiny Fast Private & Secure : 100,000,000+\n",
      "/u/app : 10,000+\n",
      "[verify-U] VideoIdent : 10,000+\n",
      "Viber Messenger : 500,000,000+\n",
      "WeChat : 100,000,000+\n",
      "WhatsApp Business : 10,000,000+\n",
      "WhatsCall Free Global Phone Call App & Cheap Calls : 10,000,000+\n",
      "X Browser : 50,000+\n",
      "Yahoo Mail – Stay Organized : 100,000,000+\n",
      "Free Adblocker Browser - Adblock & Popup Blocker : 10,000,000+\n",
      "Adblock Browser for Android : 10,000,000+\n",
      "CM Browser - Ad Blocker , Fast Download , Privacy : 50,000,000+\n",
      "Adblock Plus for Samsung Internet - Browse safe. : 1,000,000+\n",
      "Ad Blocker Turbo - Adblocker Browser : 10,000+\n",
      "Brave Browser: Fast AdBlocker : 5,000,000+\n",
      "AG Contacts, Lite edition : 5,000+\n",
      "Oklahoma Ag Co-op Council : 10+\n",
      "Bee'ah Employee App : 100+\n",
      "tournaments and more.aj.2 : 100+\n",
      "Aj.Petra : 100+\n",
      "AK Phone : 5,000+\n",
      "PlacarTv Futebol Ao Vivo : 100,000+\n",
      "WiFi Access Point (hotspot) : 100,000+\n",
      "Access Point Names : 10,000+\n",
      "Puffin Web Browser : 10,000,000+\n",
      "ClanHQ : 10,000+\n",
      "Ear Agent: Super Hearing : 5,000,000+\n",
      "Google Voice : 10,000,000+\n",
      "Google Allo : 10,000,000+\n",
      "AU Call Blocker - Block Unwanted Calls Texts 2018 : 1,000+\n",
      "Baby Monitor AV : 100,000+\n",
      "AV Phone : 1,000+\n",
      "AW - free video calls and chat : 1,000,000+\n",
      "Katalogen.ax : 100+\n",
      "AZ Browser. Private & Download : 100,000+\n",
      "BA SALES : 1+\n",
      "BD Data Plan (3G & 4G) : 500,000+\n",
      "BD Internet Packages (Updated) : 50,000+\n",
      "BD Dialer : 10,000+\n",
      "BD Live Call : 5,000+\n",
      "Best Browser BD social networking : 10+\n",
      "Traffic signs BD : 500+\n",
      "BF Browser by Betfilter - Stop Gambling Today! : 10,000+\n",
      "My BF App : 50,000+\n",
      "BH Mail : 1,000+\n",
      "Zalo – Video Call : 50,000,000+\n",
      "BJ - Confidential : 10+\n",
      "BK Chat : 1,000+\n",
      "Of the wall Arapaho bk : 5+\n",
      "AC-BL : 50+\n",
      "BBM - Free Calls & Messages : 100,000,000+\n",
      "DMR BrandMeister Tool : 10,000+\n",
      "BBMoji - Your personalized BBM Stickers : 1,000,000+\n",
      "BN MALLORCA Radio : 1,000+\n",
      "BQ Partners : 1,000+\n",
      "BS-Mobile : 50+\n",
      "ATC Unico BS : 500+\n",
      "BT One Voice mobile access : 5,000+\n",
      "BT Messenger : 50,000+\n",
      "BT One Phone Mobile App : 10,000+\n",
      "SW-100.tch by Callstel : 1,000,000+\n",
      "BT MeetMe with Dolby Voice : 100,000+\n",
      "Bluetooth Auto Connect : 5,000,000+\n",
      "AudioBT: BT audio GPS/SMS/Text : 50,000+\n",
      "BV : 100+\n",
      "Feel Performer : 10,000+\n",
      "Tiny Call Confirm : 1,000,000+\n",
      "CB Radio Chat - for friends! : 1,000,000+\n",
      "CB On Mobile : 100,000+\n",
      "Virtual Walkie Talkie : 1,000,000+\n",
      "Channel 19 : 100,000+\n",
      "Cb browser : 50+\n",
      "CF Chat: Connecting Friends : 100+\n",
      "retteMi.ch : 5,000+\n",
      "Chrome Dev : 5,000,000+\n",
      "CJ Browser - Fast & Private : 100+\n",
      "CJ DVD Rentals : 100+\n",
      "CK Call NEW : 10+\n",
      "CM Transfer - Share any files with friends nearby : 5,000,000+\n",
      "mail.co.uk Mail : 5,000+\n",
      "ClanPlay: Community and Tools for Gamers : 1,000,000+\n",
      "CQ-Mobile : 1,000+\n",
      "CQ-Alert : 500+\n",
      "QRZ Assistant : 100,000+\n",
      "Pocket Prefix Plus : 10,000+\n",
      "Ham Radio Prefixes : 10,000+\n",
      "CS Customizer : 1,000+\n",
      "CS Browser | #1 & BEST BROWSER : 1,000+\n",
      "CS Browser Beta : 5,000+\n",
      "My Vodafone (GR) : 1,000,000+\n",
      "IZ2UUF Morse Koch CW : 50,000+\n",
      "C W Browser : 100+\n",
      "CW Bluetooth SPP : 100+\n",
      "CW BLE Peripheral Simulator : 500+\n",
      "Morse Code Reader : 100,000+\n",
      "Learn Morse Code - G0HYN Learn Morse : 5,000+\n",
      "Ring : 10,000+\n",
      "Hyundai CX Conference : 50+\n",
      "Cy Messenger : 100+\n",
      "Amadeus GR & CY : 100+\n",
      "Hlášenírozhlasu.cz : 10+\n",
      "SMS Sender - sluzba.cz : 1,000+\n",
      "WEB.DE Mail : 10,000,000+\n",
      "Your Freedom VPN Client : 5,000,000+\n",
      "CallApp: Caller ID, Blocker & Phone Call Recorder : 10,000,000+\n",
      "Rádio Sol Nascente DF : 500+\n",
      "DG Card : 100+\n",
      "Whoscall - Caller ID & Block : 10,000,000+\n",
      "DK Browser : 10+\n",
      "cluster.dk : 1,000+\n",
      "DK TEL Dialer : 50+\n",
      "DM for WhatsApp : 5,000+\n",
      "DM Talk New : 5,000+\n",
      "DM - The Offical Messaging App : 10+\n",
      "DM Tracker : 1,000+\n",
      "Call Blocker & Blacklist : 1,000+\n",
      "ReadyOp DT : 1,000+\n",
      "DU Browser—Browse fast & fun : 10,000,000+\n",
      "Caller ID & Call Block - DU Caller : 5,000,000+\n",
      "BlueDV AMBE : 1,000+\n",
      "DW Contacts & Phone & Dialer : 1,000,000+\n",
      "Deaf World DW : 10,000+\n",
      "Ham DX Cluster & Spots Finder : 5,000+\n",
      "Mircules DX Cluster Lite : 5,000+\n",
      "3G DZ Configuration : 50,000+\n",
      "chat dz : 100+\n",
      "love sms good morning : 5,000+\n",
      "Goodbox - Mega App : 100,000+\n",
      "Call Blocker - Blacklist, SMS Blocker : 1,000,000+\n",
      "[EF]ShoutBox : 100+\n",
      "Eg Call : 10,000+\n",
      "ei : 10+\n",
      "EJ messenger : 10+\n",
      "Ek IRA : 10+\n",
      "Orfox: Tor Browser for Android : 10,000,000+\n",
      "EO Mumbai : 10+\n",
      "EP RSS Reader : 100+\n",
      "Voxer Walkie Talkie Messenger : 10,000,000+\n",
      "ES-1 : 500+\n",
      "Hangouts Dialer - Call Phones : 10,000,000+\n",
      "EU Council : 1,000+\n",
      "Council Voting Calculator : 5,000+\n",
      "Have your say on Europe : 500+\n",
      "Programi podrške EU : 100+\n",
      "Inbox.eu : 10,000+\n",
      "Web Browser for Android : 1,000,000+\n",
      "Everbridge : 100,000+\n",
      "Best Auto Call Recorder Free : 500+\n",
      "EZ Wifi Notification : 10,000+\n",
      "Test Server SMS FA : 5+\n",
      "Lite for Facebook Messenger : 1,000,000+\n",
      "FC Browser - Focus Privacy Browser : 1,000+\n",
      "EHiN-FH conferenceapp : 100+\n",
      "Carpooling FH Hagenberg : 100+\n",
      "Wi-Fi Auto-connect : 1,000,000+\n",
      "Talkie - Wi-Fi Calling, Chats, File Sharing : 500,000+\n",
      "WeFi - Free Fast WiFi Connect & Find Wi-Fi Map : 1,000,000+\n",
      "Sat-Fi : 5,000+\n",
      "Portable Wi-Fi hotspot Free : 100,000+\n",
      "TownWiFi | Wi-Fi Everywhere : 500,000+\n",
      "Jazz Wi-Fi : 10,000+\n",
      "Sat-Fi Voice : 1,000+\n",
      "Free Wi-fi HotspoT : 50,000+\n",
      "FN Web Radio : 10+\n",
      "FNH Payment Info : 10+\n",
      "MARKET FO : 100+\n",
      "FO OP St-Nazaire : 100+\n",
      "FO SODEXO : 100+\n",
      "FO RCBT : 100+\n",
      "FO Interim : 100+\n",
      "FO PSA Sept-Fons : 100+\n",
      "FO AIRBUS TLSE : 1,000+\n",
      "FO STELIA Méaulte : 100+\n",
      "FO AIRBUS Nantes : 100+\n",
      "Firefox Focus: The privacy browser : 1,000,000+\n",
      "FP Connect : 100+\n",
      "FreedomPop Messaging Phone/SIM : 500,000+\n",
      "FP Live : 10+\n",
      "HipChat - beta version : 50,000+\n"
     ]
    }
   ],
   "source": [
    "# Print the app names and number of installs for the Communication Category\n",
    "for row in android_final:\n",
    "    name = row[0]\n",
    "    category = row[1]\n",
    "    installs = row[5]\n",
    "    if category == 'COMMUNICATION':\n",
    "        print(name, ':', installs)"
   ]
  },
  {
   "cell_type": "markdown",
   "metadata": {},
   "source": [
    "In the Communication category, WhatsApp alone has more than 1 billion installs. At the same time, se can see other apps from the same category with also a substantial number of installs (e.g. imo beta free calls and text). This seems to be a genre with potential to attract a large number of users."
   ]
  },
  {
   "cell_type": "code",
   "execution_count": 39,
   "metadata": {},
   "outputs": [
    {
     "name": "stdout",
     "output_type": "stream",
     "text": [
      "Facebook : 1,000,000,000+\n",
      "Facebook Lite : 500,000,000+\n",
      "Tumblr : 100,000,000+\n",
      "Social network all in one 2018 : 100,000+\n",
      "Pinterest : 100,000,000+\n",
      "TextNow - free text + calls : 10,000,000+\n",
      "Google+ : 1,000,000,000+\n",
      "The Messenger App : 1,000,000+\n",
      "Messenger Pro : 1,000,000+\n",
      "Free Messages, Video, Chat,Text for Messenger Plus : 1,000,000+\n",
      "Telegram X : 5,000,000+\n",
      "The Video Messenger App : 100,000+\n",
      "Jodel - The Hyperlocal App : 1,000,000+\n",
      "Hide Something - Photo, Video : 5,000,000+\n",
      "Love Sticker : 1,000,000+\n",
      "Web Browser & Fast Explorer : 5,000,000+\n",
      "LiveMe - Video chat, new friends, and make money : 10,000,000+\n",
      "VidStatus app - Status Videos & Status Downloader : 5,000,000+\n",
      "Love Images : 1,000,000+\n",
      "Web Browser ( Fast & Secure Web Explorer) : 500,000+\n",
      "SPARK - Live random video chat & meet new people : 5,000,000+\n",
      "Golden telegram : 50,000+\n",
      "Facebook Local : 1,000,000+\n",
      "Meet – Talk to Strangers Using Random Video Chat : 5,000,000+\n",
      "MobilePatrol Public Safety App : 1,000,000+\n",
      "💘 WhatsLov: Smileys of love, stickers and GIF : 1,000,000+\n",
      "HTC Social Plugin - Facebook : 10,000,000+\n",
      "Quora : 10,000,000+\n",
      "Kate Mobile for VK : 10,000,000+\n",
      "Family GPS tracker KidControl + GPS by SMS Locator : 1,000,000+\n",
      "Moment : 1,000,000+\n",
      "Text Me: Text Free, Call Free, Second Phone Number : 10,000,000+\n",
      "Text Free: WiFi Calling App : 5,000,000+\n",
      "Badoo - Free Chat & Dating App : 100,000,000+\n",
      "Text free - Free Text + Call : 10,000,000+\n",
      "Tango - Live Video Broadcast : 100,000,000+\n",
      "ooVoo Video Calls, Messaging & Stories : 50,000,000+\n",
      "Whisper : 5,000,000+\n",
      "Blogger : 5,000,000+\n",
      "Bloglovin' : 500,000+\n",
      "Blogaway for Android (Blogger) : 100,000+\n",
      "Instagram : 1,000,000,000+\n",
      "TwitCasting Live : 1,000,000+\n",
      "Stream - Live Video Community : 500,000+\n",
      "YouNow: Live Stream Video Chat : 10,000,000+\n",
      "Mirrativ: Live Stream Any App : 500,000+\n",
      "Snapchat : 500,000,000+\n",
      "Banjo : 1,000,000+\n",
      "We Heart It : 10,000,000+\n",
      "MeetMe: Chat & Meet New People : 50,000,000+\n",
      "Timehop : 5,000,000+\n",
      "Frontback - Social Photos : 1,000,000+\n",
      "LinkedIn : 100,000,000+\n",
      "Path : 10,000,000+\n",
      "SayHi Chat, Meet New People : 10,000,000+\n",
      "Tapatalk - 100,000+ Forums : 10,000,000+\n",
      "Couple - Relationship App : 1,000,000+\n",
      "Nextdoor - Local neighborhood news & classifieds : 5,000,000+\n",
      "LOVOO : 10,000,000+\n",
      "Jaumo Dating, Flirt & Live Video : 10,000,000+\n",
      "Patook - make platonic friends : 100,000+\n",
      "Zello PTT Walkie Talkie : 50,000,000+\n",
      "textPlus: Free Text & Calls : 10,000,000+\n",
      "magicApp Calling & Messaging : 10,000,000+\n",
      "Dating App, Flirt & Chat : W-Match : 10,000,000+\n",
      "uCiC- Videos and Photos on demand : 100,000+\n",
      "Meetup : 5,000,000+\n",
      "POF Free Dating App : 50,000,000+\n",
      "Tagged - Meet, Chat & Dating : 10,000,000+\n",
      "SKOUT - Meet, Chat, Go Live : 50,000,000+\n",
      "Mico- Stranger Chat Random video Chat, Live, Meet : 10,000,000+\n",
      "Waplog - Free Chat, Dating App, Meet Singles : 10,000,000+\n",
      "Tik Tok - including musical.ly : 100,000,000+\n",
      "B-Messenger Video Chat : 1,000,000+\n",
      "BIGO LIVE - Live Stream : 100,000,000+\n",
      "Greeting Cards & Wishes : 500,000+\n",
      "Share G - Images Sharing - Wallpapers App : 10,000+\n",
      "H letter images : 1,000+\n",
      "Instachat 😜 : 5,000,000+\n",
      "Fame Boom for Real Followers, Likes : 5,000,000+\n",
      "FollowMeter for Instagram : 1,000,000+\n",
      "Mali J : 10,000+\n",
      "KDRAMA Amino for K-Drama Fans : 100,000+\n",
      "KPOP Amino for K-Pop Entertainment : 100,000+\n",
      "EXO-L Amino for EXO Fans : 50,000+\n",
      "Verdad o Reto : 500,000+\n",
      "pixiv : 1,000,000+\n",
      "Join R, Community Engagement : 1,000+\n",
      "U LIVE – Video Chat & Stream : 1,000,000+\n",
      "See U - Random video chat, video chat : 100,000+\n",
      "What U See : 100,000+\n",
      "U-Report : 10,000+\n",
      "Meet U - Get Friends for Snapchat, Kik & Instagram : 100,000+\n",
      "VMate Lite - Funny Short Videos Social Network : 1,000,000+\n",
      "V Bucks ProTips New : 1,000+\n",
      "i-share AF/KLM (AFKL ishare) : 100+\n",
      "Eternal Light AG : 100+\n",
      "Message AI - Write Better Messages (Free) : 100+\n",
      "Jamaa Amino for Animal Jam : 10,000+\n",
      "Legend - Animate Text in Video : 10,000,000+\n",
      "GUYZ - Gay Chat & Gay Dating : 1,000,000+\n",
      "eChallan Andhra Pradesh (AP) : 1,000+\n",
      "Snaappy – 3D fun AR core communication platform : 1,000,000+\n",
      "Undertale AU Amino : 50,000+\n",
      "Au Pair : 10,000+\n",
      "Media Sosial TNI AU : 1,000+\n",
      "BA 3 Banjarmasin : 10+\n",
      "iCard BD Plus : 500+\n",
      "Movement BE : 100+\n",
      "YAY - TBH : 100,000+\n",
      "Find My Friends : 10,000,000+\n",
      "BG LINKED (BGLINKED) : 1,000+\n",
      "Zdravei.BG : 1,000+\n",
      "BGKontakti London BG Kontakti : 500+\n",
      "BGKontakti Bayern BG Kontakti : 1,000+\n",
      "BGKontakti Vienna BG Kontakti : 1,000+\n",
      "Discípulos em BH : 100+\n",
      "BH Connect : 1+\n",
      "Gayvox - Gay Lesbian Bi Dating : 500,000+\n",
      "Grindr - Gay chat : 10,000,000+\n",
      "Lesbian Chat & Dating - SPICY : 1,000,000+\n",
      "Alumni BJ : 100+\n",
      "VK : 100,000,000+\n",
      "BK Traffic Control cum Chart : 10,000+\n",
      "Daily Murli Saar Widget : 10,000+\n",
      "Myjob@BM : 100+\n",
      "bm-Events : 10+\n",
      "BOO! - Next Generation Messenger : 1,000,000+\n",
      "Wishbone - Compare Anything : 1,000,000+\n",
      "BR Chat Bot : 1,000+\n",
      "Br Browser : 500+\n",
      "Dr B R Ambedkar (Jai Bhim) : 100,000+\n",
      "Dr. B.R.Ambedkar : 100,000+\n",
      "Black Social : 1,000+\n",
      "BT Communicator : 10,000+\n",
      "BT Dating -Find your match, help cupid, be social : 50,000+\n",
      "Fiesta by Tango - Find, Meet and Make New Friends : 1,000,000+\n",
      "Evasion.bz : 100+\n",
      "CB Heroes : 5+\n",
      "CG Districts : 1,000+\n",
      "Digi-TV.ch : 10,000+\n",
      "Students.ch : 1,000+\n",
      "CJ Gospel Hour : 100+\n",
      "Pekalongan CJ : 0+\n",
      "Hashtags For Likes.co : 50,000+\n",
      "CP Dialer : 50,000+\n",
      "C.P. CERVANTES (TOBARRA) : 5+\n",
      "Cyprus Police : 10,000+\n",
      "Rande.cz : 50,000+\n",
      "signály.cz : 1,000+\n",
      "DB Event App : 5,000+\n",
      "DC Comics Amino : 1,000+\n",
      "DF BugMeNot : 500+\n",
      "Noticias DF : 1,000+\n",
      "Periscope - Live Video : 10,000,000+\n",
      "Daddyhunt: Gay Dating : 500,000+\n",
      "Free phone calls, free texting SMS on free number : 10,000,000+\n",
      "Phone Tracker : Family Locator : 10,000,000+\n",
      "HOLLA Live: Meet New People via Random Video Chat : 5,000,000+\n",
      "Dating.dk : 100,000+\n",
      "DK Murali : 500+\n",
      "GirlTalk.dk : 100+\n",
      "+Download 4 Instagram Twitter : 1,000,000+\n",
      "DM Me - Chat : 10,000+\n",
      "DM for IG 😘 - Image & Video Saver for Instagram : 5,000+\n",
      "Auto DM for Twitter 🔥 : 1,000+\n",
      "DM Storage (for twitter) : 100+\n",
      "Fake Chat (Direct Message) : 500,000+\n",
      "Otto DM : 10+\n",
      "DN Blog : 10+\n",
      "DP and Status for WhatsApp 2018 : 100,000+\n",
      "Dp For Whatsapp : 5,000+\n",
      "Profile Pictures and DP for Whatsapp : 5,000+\n",
      "Dp for Facebook : 5,000+\n",
      "Best DP and Status : 10,000+\n",
      "Instant DP Downloader for Instagram : 5,000+\n",
      "DP Display Pictures Life Quotes Motivational GM : 5,000+\n",
      "Qeek for Instagram - Zoom profile insta DP : 500,000+\n",
      "DV Statistics : 100+\n",
      "DW Streaming : 1,000+\n",
      "News Dz : 10+\n",
      "quran-DZ : 10+\n",
      "TN e Sevai TN EB Bill Patta Citta EC Birth All Hub : 5,000+\n",
      "TNEB Bill Online Payment (Tamil) : 5,000+\n",
      "UP EB Bill Payment & Details : 50+\n",
      "TN EC Online New : 1,000+\n",
      "TN Patta /Chitta /EC New : 100+\n",
      "EG Way Life : 50+\n",
      "Equestria Amino for MLP : 50,000+\n",
      "Ek Maratha : 10,000+\n",
      "Hum Ek Hain 2.02 : 10+\n",
      "Sabka Malik Ek Sai : 1,000+\n",
      "EO RAIPUR : 10+\n",
      "Anime et Manga Amino en Français : 50,000+\n",
      "Hornet - Gay Social Network : 5,000,000+\n",
      "Amino: Communities and Chats : 10,000,000+\n",
      "European Solidarity Corps : 1,000+\n",
      "Reisedealz.eu : 10+\n",
      "Eddsworld Amino : 10,000+\n",
      "Rejoin Your Ex : 100+\n",
      "Amleen Ey : 1+\n",
      "Coupe Adhémar EY 2017 : 50+\n",
      "EZ Video Download for Facebook : 1,000,000+\n",
      "Messages, Text and Video Chat for Messenger : 10,000,000+\n",
      "All Social Networks : 1,000,000+\n",
      "Messenger Messenger : 10,000,000+\n",
      "Facebook Creator : 1,000,000+\n",
      "Swift for Facebook Lite : 500,000+\n",
      "Friendly for Facebook : 1,000,000+\n",
      "Faster for Facebook Lite : 1,000,000+\n",
      "Puffin for Facebook : 500,000+\n",
      "Profile Tracker - Who Viewed My Facebook Profile : 500,000+\n",
      "Pink Color for Facebook : 500,000+\n",
      "Messenger : 10,000,000+\n",
      "Stickers for Imo, fb, whatsapp : 10,000+\n",
      "Who Viewed My Facebook Profile - Stalkers Visitors : 5,000,000+\n",
      "Downloader plus for FB : 500+\n",
      "MB Notifications for FB (Free) : 100,000+\n",
      "Phoenix - Facebook & Messenger : 100,000+\n",
      "Faster Social for Facebook : 100,000+\n",
      "Check Your Visitors on FB ? : 5,000+\n",
      "Stickers for Facebook : 1,000,000+\n",
      "Lite Messenger for Facebook Lite : 10,000+\n",
      "Mini for Facebook lite : 10,000+\n",
      "FB Advanced Search : 50+\n",
      "funny Image Comments for FB : 5,000+\n",
      "Unlimited Group Links - Whatsapp, FB, Telegram : 10,000+\n",
      "FCB Connect - FC Barcelona : 50,000+\n",
      "Frases Cristianas de Esperanza y Fe : 100+\n",
      "FutureNet your social app : 100,000+\n",
      "Alarm.fo – choose your info : 1,000+\n",
      "FunForMobile Ringtones & Chat : 5,000,000+\n",
      "Chat For Strangers - Video Chat : 100,000+\n",
      "Fr Daoud Lamei : 100,000+\n",
      "Naruto & Boruto FR : 100+\n",
      "Frim: get new friends on local chat rooms : 5,000,000+\n"
     ]
    }
   ],
   "source": [
    "# Print apps from the Social category.\n",
    "# Print the app names and number of installs for the Communication Category\n",
    "for row in android_final:\n",
    "    name = row[0]\n",
    "    category = row[1]\n",
    "    installs = row[5]\n",
    "    if category == 'SOCIAL':\n",
    "        print(name, ':', installs)"
   ]
  },
  {
   "cell_type": "markdown",
   "metadata": {},
   "source": [
    "In the Social category, Facebook and Facebook Lite sum up more than 1.5 billion installs. We have also other apps with more than 100 million (e.g. Pinterest). Not many apps in this category reach a large number of users though. That seems to be restricted to a small number of well-known apps."
   ]
  },
  {
   "cell_type": "code",
   "execution_count": 40,
   "metadata": {},
   "outputs": [
    {
     "name": "stdout",
     "output_type": "stream",
     "text": [
      "YouTube : 1,000,000,000+\n",
      "All Video Downloader 2018 : 1,000,000+\n",
      "Video Downloader : 10,000,000+\n",
      "HD Video Player : 1,000,000+\n",
      "Iqiyi (for tablet) : 1,000,000+\n",
      "Video Player All Format : 10,000,000+\n",
      "Motorola Gallery : 100,000,000+\n",
      "Free TV series : 100,000+\n",
      "Video Player All Format for Android : 500,000+\n",
      "VLC for Android : 100,000,000+\n",
      "Code : 10,000,000+\n",
      "Vote for : 50,000,000+\n",
      "XX HD Video downloader-Free Video Downloader : 1,000,000+\n",
      "OBJECTIVE : 1,000,000+\n",
      "Music - Mp3 Player : 10,000,000+\n",
      "HD Movie Video Player : 1,000,000+\n",
      "YouCut - Video Editor & Video Maker, No Watermark : 5,000,000+\n",
      "Video Editor,Crop Video,Movie Video,Music,Effects : 1,000,000+\n",
      "YouTube Studio : 10,000,000+\n",
      "video player for android : 10,000,000+\n",
      "Vigo Video : 50,000,000+\n",
      "Google Play Movies & TV : 1,000,000,000+\n",
      "HTC Service － DLNA : 10,000,000+\n",
      "VPlayer : 1,000,000+\n",
      "MiniMovie - Free Video and Slideshow Editor : 50,000,000+\n",
      "Samsung Video Library : 50,000,000+\n",
      "OnePlus Gallery : 1,000,000+\n",
      "LIKE – Magic Video Maker & Community : 50,000,000+\n",
      "HTC Service—Video Player : 5,000,000+\n",
      "Play Tube : 1,000,000+\n",
      "Droid Zap by Motorola : 5,000,000+\n",
      "video player : 1,000,000+\n",
      "G Guide Program Guide (SOFTBANK EMOBILE WILLCOM version) : 1,000,000+\n",
      "Video.Guru - Video Maker : 1,000,000+\n",
      "HTC Gallery : 10,000,000+\n",
      "PowerDirector Video Editor App: 4K, Slow Mo & More : 10,000,000+\n",
      "Cartoon Network App : 10,000,000+\n",
      "Video Status : 1,000,000+\n",
      "Video Wallpaper Show : 500+\n",
      "SVT Play : 1,000,000+\n",
      "BluTV : 1,000,000+\n",
      "Tencent Video - Supporting the whole network : 1,000,000+\n",
      "Casper Ssinema : 10,000+\n",
      "amazer - Global Kpop Video Community : 100,000+\n",
      "MX Player : 500,000,000+\n",
      "Video Editor : 5,000,000+\n",
      "Omlet Arcade - Stream, Meet, Play : 10,000,000+\n",
      "VUE: video editor & camcorder : 1,000,000+\n",
      "Magisto Video Editor & Maker : 10,000,000+\n",
      "Dubsmash : 100,000,000+\n",
      "DU Recorder – Screen Recorder, Video Editor, Live : 50,000,000+\n",
      "KineMaster – Pro Video Editor : 50,000,000+\n",
      "Mobizen Screen Recorder for SAMSUNG : 10,000,000+\n",
      "Mobizen Screen Recorder for LG - Record, Capture : 1,000,000+\n",
      "M-Sight Pro : 5,000+\n",
      "Sketch 'n' go : 100,000+\n",
      "Q-See Plus : 5,000+\n",
      "Ustream : 10,000,000+\n",
      "VMate : 50,000,000+\n",
      "All Video Downloader : 10,000,000+\n",
      "VidPlay : 1,000,000+\n",
      "HD Video Downloader : 2018 Best video mate : 50,000,000+\n",
      "VivaVideo - Video Editor & Photo Movie : 100,000,000+\n",
      "VideoShow-Video Editor, Video Maker, Beauty Camera : 100,000,000+\n",
      "W Box VMS : 10,000+\n",
      "W Box VMS HD : 5,000+\n",
      "AB Repeat Player : 100,000+\n",
      "A-B repeater : 5,000+\n",
      "Ez Screen Recorder (no ad) : 100,000+\n",
      "Adobe Premiere Clip : 5,000,000+\n",
      "FilmoraGo - Free Video Editor : 10,000,000+\n",
      "ActionDirector Video Editor - Edit Videos Fast : 5,000,000+\n",
      "AJ Player : 100+\n",
      "AK Lodi Films : 100+\n",
      "WiFi Baby Monitor - NannyCam : 5,000,000+\n",
      "Ringdroid : 50,000,000+\n",
      "Multiple Videos at Same Time : 1,000,000+\n",
      "AV-IPTV : 1,000+\n",
      "HD Video Player (wmv,avi,mp4,flv,av,mpg,mkv)2017 : 10,000+\n",
      "HD Video Player - Video & MP3 Player | AV Player | : 5,000+\n",
      "EML UPnP-AV Control Point : 10,000+\n",
      "AW Screen Recorder No Root : 100,000+\n",
      "AX Player -Nougat Video Player : 1,000,000+\n",
      "AX Video Player : 50,000+\n",
      "Ay : 5,000+\n",
      "Ay Sabz Gunbad Waly : 1,000+\n",
      "iMediaShare – Photos & Music : 10,000,000+\n",
      "AZ Screen Recorder - No Root : 10,000,000+\n",
      "Movie Downloader Torrent : Az Torrent : 1,000+\n",
      "A-Z Screen Recorder - : 500+\n",
      "BC iptv player : 1,000+\n",
      "Bc Vod : 100+\n",
      "Funny videos for whatsapp : 1,000,000+\n",
      "BG video - floating video - background video : 5,000+\n",
      "BG MUSIC PLAYER - MUSIC PLAYER : 100+\n",
      "bgtime.tv : 50,000+\n",
      "YourTube Video Views BG : 500+\n",
      "Music for Youtube - Tube Music BG, Red+ : 1,000+\n",
      "BGCN TV : 100,000+\n",
      "AfreecaTV : 10,000,000+\n",
      "BK News Channel : 10,000+\n",
      "BR Video Player : 5,000+\n",
      "BR Series : 50,000+\n",
      "CINE BR : 1,000+\n",
      "iPlayIT for YouTube VR Player : 1,000,000+\n",
      "BSPlayer FREE : 10,000,000+\n",
      "BSPlayer ARMv7 VFP CPU support : 1,000,000+\n",
      "BS player remote : 10,000+\n",
      "BitTorrent®- Torrent Downloads : 10,000,000+\n",
      "Bx-WiFi-GI : 100+\n",
      "BZ Langenthaler Tagblatt : 1,000+\n",
      "Nero AirBurn : 100,000+\n",
      "CI Stream : 10+\n",
      "CJ Camcorder : 500+\n",
      "CJ VLC HD Remote (+ Stream) : 500,000+\n",
      "ACTIVEON CX & CX GOLD : 50,000+\n",
      "CX Monthly Tech News : 500+\n",
      "DG UPnP Player Free : 10,000+\n",
      "DG Screen Recorder : 500+\n",
      "DG Video Editor : 10,000+\n",
      "Video Downloader - for Instagram Repost App : 10,000,000+\n",
      "Quik – Free Video Editor for photos, clips, music : 10,000,000+\n",
      "FrostWire: Torrent Downloader & Music Player : 10,000,000+\n",
      "Inst Download - Video & Photo : 10,000,000+\n",
      "Vuze Torrent Downloader : 1,000,000+\n",
      "AndStream - Streaming Download : 1,000,000+\n",
      "DR TV : 500,000+\n",
      "DS photo : 1,000,000+\n",
      "DS video : 1,000,000+\n",
      "DU Privacy-hide apps、sms、file : 1,000,000+\n",
      "iSmart DV : 1,000,000+\n",
      "dv Prompter : 50,000+\n",
      "DV Lottery Photo : 5,000+\n",
      "MelifeCam-M : 10,000+\n",
      "GoPlus Cam : 500,000+\n",
      "GoAction : 100,000+\n",
      "4K VIDEO PLAYER ULTRA HD : 5,000+\n",
      "Downvids Helper - One touch DW : 10,000+\n",
      "DZ Popup Video Player : 5,000+\n",
      "EC MANAGER : 100+\n",
      "EF Sidekick : 5,000+\n",
      "ek tuhi : 10,000+\n",
      "Naruto Shippuden - Watch Free! : 10,000,000+\n",
      "ES Audio Player ( Shortcut ) : 100,000+\n",
      "Furrion ES Control : 5,000+\n",
      "ES-IPTV : 50,000+\n",
      "EZCast – Cast Media to TV : 1,000,000+\n",
      "EZ Web Video Cast | Chromecast : 100,000+\n",
      "EZ-SEE : 10,000+\n",
      "EZ TV Player : 10,000+\n",
      "EZ Usenet for Easynews® : 10,000+\n",
      "EZ game screen recorder with audio 1080P : 1,000+\n",
      "Videos downloader for Facebook:fast fb video saver : 5,000+\n",
      "Video Downloader for FB : Video Download with Link : 100,000+\n",
      "HD VideoDownlaoder For Fb : XXVideo Downloader : 10,000+\n",
      "HD Video Download for Facebook : 1,000,000+\n",
      "Art of F J Taylor : 10+\n",
      "Motorola FM Radio : 100,000,000+\n",
      "List iptv FR : 100+\n"
     ]
    }
   ],
   "source": [
    "# Print apps from the Social category.\n",
    "# Print the app names and number of installs for the Communication Category\n",
    "for row in android_final:\n",
    "    name = row[0]\n",
    "    category = row[1]\n",
    "    installs = row[5]\n",
    "    if category == 'VIDEO_PLAYERS':\n",
    "        print(name, ':', installs)"
   ]
  },
  {
   "cell_type": "markdown",
   "metadata": {},
   "source": [
    "In the Video Player category, YouTube drives the average upwards, with more than 1 billion installs. Still, we can find many other apps in the same category displaying a large number of installs, in some cases surpassing 500 million."
   ]
  },
  {
   "cell_type": "markdown",
   "metadata": {},
   "source": [
    "# Conclusions\n",
    "\n",
    "The analysis offers multiple avenues of opportunity in terms of genres with the potential to attract a large number of users. \n",
    "\n",
    "The data show that there seems to be a high amoung of users interested in subjects related to religion. They seek ways of being able to read the holy books and spiritual content. Apps that provide this type of information seem to have potential.\n",
    "\n",
    "Another topic that tends to be highly relevant among users is the understanding of different languages. Dictionaries and translators attract a wide array of users. These types of services also show encouraging results.\n",
    "\n",
    "Especially in big cities, users have the need to swiftly communicate and access geolocation information of people and places. Apps that can help users finding the right places and connecting with people in the area they live seem to be highly relevant as well.\n",
    "\n",
    "Finally, users tend to appreciate platforms that allow them to interact with video content. Therefore, apps that can convey a way for users to learn and get informed interacting with video seem also to have the potential of atracting a high number os users."
   ]
  },
  {
   "cell_type": "code",
   "execution_count": null,
   "metadata": {},
   "outputs": [],
   "source": []
  }
 ],
 "metadata": {
  "kernelspec": {
   "display_name": "Python 3",
   "language": "python",
   "name": "python3"
  },
  "language_info": {
   "codemirror_mode": {
    "name": "ipython",
    "version": 3
   },
   "file_extension": ".py",
   "mimetype": "text/x-python",
   "name": "python",
   "nbconvert_exporter": "python",
   "pygments_lexer": "ipython3",
   "version": "3.7.3"
  }
 },
 "nbformat": 4,
 "nbformat_minor": 2
}
